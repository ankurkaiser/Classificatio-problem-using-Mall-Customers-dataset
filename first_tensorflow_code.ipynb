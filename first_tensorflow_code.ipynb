{
  "nbformat": 4,
  "nbformat_minor": 0,
  "metadata": {
    "colab": {
      "name": "first tensorflow code.ipynb",
      "provenance": [],
      "collapsed_sections": [],
      "authorship_tag": "ABX9TyM3vFYd0zQyzzbcNfkFG2J4",
      "include_colab_link": true
    },
    "kernelspec": {
      "name": "python3",
      "display_name": "Python 3"
    }
  },
  "cells": [
    {
      "cell_type": "markdown",
      "metadata": {
        "id": "view-in-github",
        "colab_type": "text"
      },
      "source": [
        "<a href=\"https://colab.research.google.com/github/ankurkaiser/Classificatio-problem-using-Mall-Customers-dataset/blob/master/first_tensorflow_code.ipynb\" target=\"_parent\"><img src=\"https://colab.research.google.com/assets/colab-badge.svg\" alt=\"Open In Colab\"/></a>"
      ]
    },
    {
      "cell_type": "code",
      "metadata": {
        "id": "v6RebNDT3Iz0",
        "colab_type": "code",
        "colab": {}
      },
      "source": [
        "import tensorflow as tf\n"
      ],
      "execution_count": null,
      "outputs": []
    },
    {
      "cell_type": "code",
      "metadata": {
        "id": "VYbrfZZjPgku",
        "colab_type": "code",
        "colab": {}
      },
      "source": [
        "zero_tensor = tf.zeros([3,3])"
      ],
      "execution_count": null,
      "outputs": []
    },
    {
      "cell_type": "code",
      "metadata": {
        "id": "M4lDeCdRPl1V",
        "colab_type": "code",
        "colab": {
          "base_uri": "https://localhost:8080/",
          "height": 87
        },
        "outputId": "6df0c621-b751-4799-8a1c-35b126c7ca18"
      },
      "source": [
        "print(zero_tensor)"
      ],
      "execution_count": null,
      "outputs": [
        {
          "output_type": "stream",
          "text": [
            "tf.Tensor(\n",
            "[[0. 0. 0.]\n",
            " [0. 0. 0.]\n",
            " [0. 0. 0.]], shape=(3, 3), dtype=float32)\n"
          ],
          "name": "stdout"
        }
      ]
    },
    {
      "cell_type": "code",
      "metadata": {
        "id": "iK1en8vlPr6I",
        "colab_type": "code",
        "colab": {}
      },
      "source": [
        "ones_tensor = tf.ones([1,1])"
      ],
      "execution_count": null,
      "outputs": []
    },
    {
      "cell_type": "code",
      "metadata": {
        "id": "mfoUuJwiPxQI",
        "colab_type": "code",
        "colab": {
          "base_uri": "https://localhost:8080/",
          "height": 35
        },
        "outputId": "2342e44a-8dc1-416f-e72b-3f0a994fd390"
      },
      "source": [
        "print(ones_tensor)"
      ],
      "execution_count": null,
      "outputs": [
        {
          "output_type": "stream",
          "text": [
            "tf.Tensor([[1.]], shape=(1, 1), dtype=float32)\n"
          ],
          "name": "stdout"
        }
      ]
    },
    {
      "cell_type": "code",
      "metadata": {
        "id": "pTguBQm4P0AA",
        "colab_type": "code",
        "colab": {
          "base_uri": "https://localhost:8080/",
          "height": 104
        },
        "outputId": "78c68cfb-e890-4472-9c0a-ddbe65cde515"
      },
      "source": [
        "fill_tensor = tf.fill([4,4], 16)\n",
        "print(fill_tensor)"
      ],
      "execution_count": null,
      "outputs": [
        {
          "output_type": "stream",
          "text": [
            "tf.Tensor(\n",
            "[[16 16 16 16]\n",
            " [16 16 16 16]\n",
            " [16 16 16 16]\n",
            " [16 16 16 16]], shape=(4, 4), dtype=int32)\n"
          ],
          "name": "stdout"
        }
      ]
    },
    {
      "cell_type": "code",
      "metadata": {
        "id": "F8abYKXzQC1n",
        "colab_type": "code",
        "colab": {
          "base_uri": "https://localhost:8080/",
          "height": 69
        },
        "outputId": "ce69c6b6-49a0-41a4-abc7-13ecaa723839"
      },
      "source": [
        "first_constant =tf.constant([[1,2,3], [3,4,5]])\n",
        "print(first_constant)"
      ],
      "execution_count": null,
      "outputs": [
        {
          "output_type": "stream",
          "text": [
            "tf.Tensor(\n",
            "[[1 2 3]\n",
            " [3 4 5]], shape=(2, 3), dtype=int32)\n"
          ],
          "name": "stdout"
        }
      ]
    },
    {
      "cell_type": "code",
      "metadata": {
        "id": "KjZOgYYLQQ34",
        "colab_type": "code",
        "colab": {
          "base_uri": "https://localhost:8080/",
          "height": 34
        },
        "outputId": "a295ecd1-c724-48a1-8082-26f127d49591"
      },
      "source": [
        "mess_constant = tf.constant(['Kaiser'])\n",
        "print(mess_constant)"
      ],
      "execution_count": null,
      "outputs": [
        {
          "output_type": "stream",
          "text": [
            "tf.Tensor([b'Kaiser'], shape=(1,), dtype=string)\n"
          ],
          "name": "stdout"
        }
      ]
    },
    {
      "cell_type": "code",
      "metadata": {
        "id": "Dy0UXYK2QgQN",
        "colab_type": "code",
        "colab": {
          "base_uri": "https://localhost:8080/",
          "height": 35
        },
        "outputId": "dc3512cc-0e91-4401-bb77-da2d1038d4f5"
      },
      "source": [
        "lins_tensor = tf.linspace(0.,9.,6)\n",
        "print(lins_tensor)"
      ],
      "execution_count": null,
      "outputs": [
        {
          "output_type": "stream",
          "text": [
            "tf.Tensor([0.        1.8       3.6       5.3999996 7.2       9.       ], shape=(6,), dtype=float32)\n"
          ],
          "name": "stdout"
        }
      ]
    },
    {
      "cell_type": "code",
      "metadata": {
        "id": "3Lm_i057Qw_S",
        "colab_type": "code",
        "colab": {
          "base_uri": "https://localhost:8080/",
          "height": 35
        },
        "outputId": "d7361aa7-7ea0-483b-8ca5-b526f5362a52"
      },
      "source": [
        "range_tensor =tf.range(3.,6.,0.5)\n",
        "print(range_tensor)"
      ],
      "execution_count": null,
      "outputs": [
        {
          "output_type": "stream",
          "text": [
            "tf.Tensor([3.  3.5 4.  4.5 5.  5.5], shape=(6,), dtype=float32)\n"
          ],
          "name": "stdout"
        }
      ]
    },
    {
      "cell_type": "code",
      "metadata": {
        "id": "KzcYpnxuREMA",
        "colab_type": "code",
        "colab": {
          "base_uri": "https://localhost:8080/",
          "height": 68
        },
        "outputId": "21faca8a-bc1a-4224-cf4f-1349582c6831"
      },
      "source": [
        "mat= tf.constant([[1.,2.,3.],[4.,5.,6.],[7.,8.,9.]])\n",
        "\n",
        "slic = tf.slice(mat,[1,1],[2,2])\n",
        "print(slic)"
      ],
      "execution_count": null,
      "outputs": [
        {
          "output_type": "stream",
          "text": [
            "tf.Tensor(\n",
            "[[5. 6.]\n",
            " [8. 9.]], shape=(2, 2), dtype=float32)\n"
          ],
          "name": "stdout"
        }
      ]
    },
    {
      "cell_type": "code",
      "metadata": {
        "id": "e8xV5tlNF8-1",
        "colab_type": "code",
        "colab": {
          "base_uri": "https://localhost:8080/",
          "height": 85
        },
        "outputId": "79c6dd7e-f057-46a1-94cd-37cdda284ccc"
      },
      "source": [
        "mat= tf.constant([[1.,2.,3.],[4.,5.,6.],[7.,8.,9.]])\n",
        "rev=tf.reverse(mat,[0])\n",
        "print(rev)"
      ],
      "execution_count": null,
      "outputs": [
        {
          "output_type": "stream",
          "text": [
            "tf.Tensor(\n",
            "[[7. 8. 9.]\n",
            " [4. 5. 6.]\n",
            " [1. 2. 3.]], shape=(3, 3), dtype=float32)\n"
          ],
          "name": "stdout"
        }
      ]
    },
    {
      "cell_type": "code",
      "metadata": {
        "id": "1o28iJPXHiG5",
        "colab_type": "code",
        "colab": {}
      },
      "source": [
        ""
      ],
      "execution_count": null,
      "outputs": []
    },
    {
      "cell_type": "code",
      "metadata": {
        "id": "SyeWft8iV-Xf",
        "colab_type": "code",
        "colab": {
          "base_uri": "https://localhost:8080/",
          "height": 102
        },
        "outputId": "cb80cf60-5889-4487-e2a6-7315a83367c2"
      },
      "source": [
        "x = tf.constant([1.,2.,3.])\n",
        "y= tf.constant([6.,7.,8.])\n",
        "\n",
        "sum = tf.add(x,y)\n",
        "print(sum)\n",
        "\n",
        "mul = tf.multiply(x,y)\n",
        "print(mul)\n",
        "\n",
        "div = tf.divide(x,y)\n",
        "print(div)\n",
        "\n",
        "div2 = x/y\n",
        "print(div2)\n",
        "\n",
        "rep =tf.sign(x)\n",
        "print(rep)"
      ],
      "execution_count": null,
      "outputs": [
        {
          "output_type": "stream",
          "text": [
            "tf.Tensor([ 7.  9. 11.], shape=(3,), dtype=float32)\n",
            "tf.Tensor([ 6. 14. 24.], shape=(3,), dtype=float32)\n",
            "tf.Tensor([0.16666667 0.2857143  0.375     ], shape=(3,), dtype=float32)\n",
            "tf.Tensor([0.16666667 0.2857143  0.375     ], shape=(3,), dtype=float32)\n",
            "tf.Tensor([1. 1. 1.], shape=(3,), dtype=float32)\n"
          ],
          "name": "stdout"
        }
      ]
    },
    {
      "cell_type": "code",
      "metadata": {
        "id": "V4lKY9RElxJl",
        "colab_type": "code",
        "colab": {
          "base_uri": "https://localhost:8080/",
          "height": 34
        },
        "outputId": "d22a69e1-73de-4bb2-adbf-4833eedeb472"
      },
      "source": [
        "sq = tf.square(x)\n",
        "print(sq)\n",
        "\n"
      ],
      "execution_count": null,
      "outputs": [
        {
          "output_type": "stream",
          "text": [
            "tf.Tensor([1. 4. 9.], shape=(3,), dtype=float32)\n"
          ],
          "name": "stdout"
        }
      ]
    },
    {
      "cell_type": "code",
      "metadata": {
        "id": "kKoHGAy8nQFE",
        "colab_type": "code",
        "colab": {
          "base_uri": "https://localhost:8080/",
          "height": 51
        },
        "outputId": "4fb5b03a-9196-41ed-bc57-587c540b4fd2"
      },
      "source": [
        "sqt = tf.sqrt(x)\n",
        "print(sqt)\n",
        "\n",
        "rsqt = tf.pow(x,y)\n",
        "print(rsqt)"
      ],
      "execution_count": null,
      "outputs": [
        {
          "output_type": "stream",
          "text": [
            "tf.Tensor([1.        1.4142135 1.7320508], shape=(3,), dtype=float32)\n",
            "tf.Tensor([1.000e+00 1.280e+02 6.561e+03], shape=(3,), dtype=float32)\n"
          ],
          "name": "stdout"
        }
      ]
    },
    {
      "cell_type": "code",
      "metadata": {
        "id": "4kw2Sb50nmYZ",
        "colab_type": "code",
        "colab": {
          "base_uri": "https://localhost:8080/",
          "height": 34
        },
        "outputId": "8b34dc2c-bb0d-472d-f116-45da2bcea573"
      },
      "source": [
        "cel = tf.floor(div)\n",
        "print(cel)"
      ],
      "execution_count": null,
      "outputs": [
        {
          "output_type": "stream",
          "text": [
            "tf.Tensor([0. 0. 0.], shape=(3,), dtype=float32)\n"
          ],
          "name": "stdout"
        }
      ]
    },
    {
      "cell_type": "code",
      "metadata": {
        "id": "4ycta2ycnvre",
        "colab_type": "code",
        "colab": {
          "base_uri": "https://localhost:8080/",
          "height": 34
        },
        "outputId": "9d409a02-1f38-4a77-af7b-59dd46ec1afe"
      },
      "source": [
        "expon = tf.exp(x)\n",
        "print(expon)"
      ],
      "execution_count": null,
      "outputs": [
        {
          "output_type": "stream",
          "text": [
            "tf.Tensor([ 2.7182817  7.389056  20.085537 ], shape=(3,), dtype=float32)\n"
          ],
          "name": "stdout"
        }
      ]
    },
    {
      "cell_type": "code",
      "metadata": {
        "id": "qI1FiH7KpQpn",
        "colab_type": "code",
        "colab": {
          "base_uri": "https://localhost:8080/",
          "height": 85
        },
        "outputId": "de14a93e-de38-4dc3-d44f-a1c4a7acf062"
      },
      "source": [
        "dot = tf.tensordot(x,y,axes =0)\n",
        "print(dot)"
      ],
      "execution_count": null,
      "outputs": [
        {
          "output_type": "stream",
          "text": [
            "tf.Tensor(\n",
            "[[ 6.  7.  8.]\n",
            " [12. 14. 16.]\n",
            " [18. 21. 24.]], shape=(3, 3), dtype=float32)\n"
          ],
          "name": "stdout"
        }
      ]
    },
    {
      "cell_type": "code",
      "metadata": {
        "id": "VX1oo5HPpfAa",
        "colab_type": "code",
        "colab": {}
      },
      "source": [
        "x = tf.constant([1.,2.,3.])\n",
        "y= tf.constant([6.,7.,8.])"
      ],
      "execution_count": null,
      "outputs": []
    },
    {
      "cell_type": "code",
      "metadata": {
        "id": "8gNfvblNps6T",
        "colab_type": "code",
        "colab": {
          "base_uri": "https://localhost:8080/",
          "height": 34
        },
        "outputId": "9afb4538-6ef5-4121-8b2a-1019b10aa739"
      },
      "source": [
        "norm_mat = tf.norm(x,ord='euclidean', axis=None, keepdims=None, name=None)\n",
        "print(norm_mat)"
      ],
      "execution_count": null,
      "outputs": [
        {
          "output_type": "stream",
          "text": [
            "tf.Tensor(3.7416575, shape=(), dtype=float32)\n"
          ],
          "name": "stdout"
        }
      ]
    },
    {
      "cell_type": "code",
      "metadata": {
        "id": "NXu6TmiDpziU",
        "colab_type": "code",
        "colab": {}
      },
      "source": [
        ""
      ],
      "execution_count": null,
      "outputs": []
    }
  ]
}